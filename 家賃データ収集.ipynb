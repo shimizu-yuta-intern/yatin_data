{
  "nbformat": 4,
  "nbformat_minor": 0,
  "metadata": {
    "colab": {
      "provenance": [],
      "authorship_tag": "ABX9TyMZxrIaBN4oxCeOElTu1jEc",
      "include_colab_link": true
    },
    "kernelspec": {
      "name": "python3",
      "display_name": "Python 3"
    },
    "language_info": {
      "name": "python"
    }
  },
  "cells": [
    {
      "cell_type": "markdown",
      "metadata": {
        "id": "view-in-github",
        "colab_type": "text"
      },
      "source": [
        "<a href=\"https://colab.research.google.com/github/shimizu-yuta-intern/yatin_data/blob/main/%E5%AE%B6%E8%B3%83%E3%83%87%E3%83%BC%E3%82%BF%E5%8F%8E%E9%9B%86.ipynb\" target=\"_parent\"><img src=\"https://colab.research.google.com/assets/colab-badge.svg\" alt=\"Open In Colab\"/></a>"
      ]
    },
    {
      "cell_type": "code",
      "execution_count": 4,
      "metadata": {
        "colab": {
          "base_uri": "https://localhost:8080/",
          "height": 403
        },
        "id": "th0U6PCAkSr4",
        "outputId": "2e3eb34d-f0cb-493c-aba1-5ddff97f712b"
      },
      "outputs": [
        {
          "output_type": "error",
          "ename": "ModuleNotFoundError",
          "evalue": "No module named 'retry'",
          "traceback": [
            "\u001b[0;31m---------------------------------------------------------------------------\u001b[0m",
            "\u001b[0;31mModuleNotFoundError\u001b[0m                       Traceback (most recent call last)",
            "\u001b[0;32m<ipython-input-4-73ed1d3df0a9>\u001b[0m in \u001b[0;36m<cell line: 3>\u001b[0;34m()\u001b[0m\n\u001b[1;32m      1\u001b[0m \u001b[0;32mimport\u001b[0m \u001b[0mrequests\u001b[0m\u001b[0;34m\u001b[0m\u001b[0;34m\u001b[0m\u001b[0m\n\u001b[1;32m      2\u001b[0m \u001b[0;32mfrom\u001b[0m \u001b[0mbs4\u001b[0m \u001b[0;32mimport\u001b[0m \u001b[0mBeautifulSoup\u001b[0m\u001b[0;34m\u001b[0m\u001b[0;34m\u001b[0m\u001b[0m\n\u001b[0;32m----> 3\u001b[0;31m \u001b[0;32mimport\u001b[0m \u001b[0mretry\u001b[0m\u001b[0;34m\u001b[0m\u001b[0;34m\u001b[0m\u001b[0m\n\u001b[0m\u001b[1;32m      4\u001b[0m \u001b[0;32mimport\u001b[0m \u001b[0murllib\u001b[0m\u001b[0;34m\u001b[0m\u001b[0;34m\u001b[0m\u001b[0m\n\u001b[1;32m      5\u001b[0m \u001b[0;32mimport\u001b[0m \u001b[0mtime\u001b[0m\u001b[0;34m\u001b[0m\u001b[0;34m\u001b[0m\u001b[0m\n",
            "\u001b[0;31mModuleNotFoundError\u001b[0m: No module named 'retry'",
            "",
            "\u001b[0;31m---------------------------------------------------------------------------\u001b[0;32m\nNOTE: If your import is failing due to a missing package, you can\nmanually install dependencies using either !pip or !apt.\n\nTo view examples of installing some common dependencies, click the\n\"Open Examples\" button below.\n\u001b[0;31m---------------------------------------------------------------------------\u001b[0m\n"
          ],
          "errorDetails": {
            "actions": [
              {
                "action": "open_url",
                "actionText": "Open Examples",
                "url": "/notebooks/snippets/importing_libraries.ipynb"
              }
            ]
          }
        }
      ],
      "source": [
        "import requests\n",
        "from bs4 import BeautifulSoup\n",
        "import retry\n",
        "import urllib\n",
        "import time\n",
        "import numpy as np\n",
        "\n",
        "# 複数ページの情報をまとめて取得\n",
        "data_samples = []\n",
        "\n",
        "# スクレイピングするページ数\n",
        "max_page = 2000\n",
        "\n",
        "# SUUMOを東京都23区のみ指定して検索して出力した画面のurl(ページ数フォーマットが必要)\n",
        "url = 'https://suumo.jp/jj/chintai/ichiran/FR301FC001/?ar=030&bs=040&ta=13&sc=13101&sc=13102&sc=13103&sc=13104&sc=13105&sc=13113&sc=13106&sc=13107&sc=13108&sc=13118&sc=13121&sc=13122&sc=13123&sc=13109&sc=13110&sc=13111&sc=13112&sc=13114&sc=13115&sc=13120&sc=13116&sc=13117&sc=13119&cb=0.0&ct=9999999&mb=0&mt=9999999&et=9999999&cn=9999999&shkr1=03&shkr2=03&shkr3=03&shkr4=03&sngz=&po1=25&pc=50&page={}'\n",
        "\n",
        "# リクエストがうまく行かないパターンを回避するためのやり直し\n",
        "@retry(tries=3, delay=10, backoff=2)\n",
        "def load_page(url):\n",
        "    html = requests.get(url)\n",
        "    soup = BeautifulSoup(html.content, 'html.parser')\n",
        "    return soup\n",
        "\n",
        "# 処理時間を測りたい\n",
        "start = time.time()\n",
        "times = []\n",
        "\n",
        "# ページごとの処理\n",
        "for page in range(1, max_page + 1):\n",
        "    before = time.time()\n",
        "    try:\n",
        "        # ページ情報\n",
        "        soup = load_page(url.format(page))\n",
        "        # 物件情報リストを指定\n",
        "        mother = soup.find_all(class_='cassetteitem')\n",
        "\n",
        "        # 物件ごとの処理\n",
        "        for child in mother:\n",
        "            # 建物情報\n",
        "            data_home = []\n",
        "            try:\n",
        "                # カテゴリ\n",
        "                data_home.append(child.find(class_='ui-pct ui-pct--util1').text.strip())\n",
        "                # 建物名\n",
        "                data_home.append(child.find(class_='cassetteitem_content-title').text.strip())\n",
        "                # 住所\n",
        "                data_home.append(child.find(class_='cassetteitem_detail-col1').text.strip())\n",
        "                # 最寄り駅のアクセス\n",
        "                children = child.find(class_='cassetteitem_detail-col2')\n",
        "                for grandchild in children.find_all(class_='cassetteitem_detail-text'):\n",
        "                    data_home.append(grandchild.text.strip())\n",
        "                # 築年数と階数\n",
        "                children = child.find(class_='cassetteitem_detail-col3')\n",
        "                for grandchild in children.find_all('div'):\n",
        "                    data_home.append(grandchild.text.strip())\n",
        "            except AttributeError:\n",
        "                continue  # 必要な情報が取得できなかった場合はスキップする\n",
        "\n",
        "            # 部屋情報\n",
        "            rooms = child.find(class_='cassetteitem_other')\n",
        "            for room in rooms.find_all(class_='js-cassette_link'):\n",
        "                data_room = []\n",
        "                try:\n",
        "                    # 部屋情報が入っている表を探索\n",
        "                    for id_, grandchild in enumerate(room.find_all('td')):\n",
        "                        # 階\n",
        "                        if id_ == 2:\n",
        "                            data_room.append(grandchild.text.strip())\n",
        "                        # 家賃と管理費\n",
        "                        elif id_ == 3:\n",
        "                            data_room.append(grandchild.find(class_='cassetteitem_other-emphasis ui-text--bold').text.strip())\n",
        "                            data_room.append(grandchild.find(class_='cassetteitem_price cassetteitem_price--administration').text.strip())\n",
        "                        # 敷金と礼金\n",
        "                        elif id_ == 4:\n",
        "                            data_room.append(grandchild.find(class_='cassetteitem_price cassetteitem_price--deposit').text.strip())\n",
        "                            data_room.append(grandchild.find(class_='cassetteitem_price cassetteitem_price--gratuity').text.strip())\n",
        "                        # 間取りと面積\n",
        "                        elif id_ == 5:\n",
        "                            data_room.append(grandchild.find(class_='cassetteitem_madori').text.strip())\n",
        "                            data_room.append(grandchild.find(class_='cassetteitem_menseki').text.strip())\n",
        "                        # URL\n",
        "                        elif id_ == 8:\n",
        "                            get_url = grandchild.find(class_='js-cassette_link_href cassetteitem_other-linktext').get('href', None)\n",
        "                            if get_url:\n",
        "                                abs_url = urllib.parse.urljoin(url, get_url)\n",
        "                                data_room.append(abs_url)\n",
        "                except AttributeError:\n",
        "                    continue  # 必要な情報が取得できなかった場合はスキップする\n",
        "\n",
        "                # 物件情報と部屋情報をくっつける\n",
        "                data_sample = data_home + data_room\n",
        "                data_samples.append(data_sample)\n",
        "    except Exception as e:\n",
        "        print(f\"エラーが発生しました: {e}\")\n",
        "        continue\n",
        "\n",
        "    # 1アクセスごとに1秒休む\n",
        "    time.sleep(1)\n",
        "\n",
        "    # 進捗確認\n",
        "    # このページの作業時間を表示\n",
        "    after = time.time()\n",
        "    running_time = after - before\n",
        "    times.append(running_time)\n",
        "    print(f'{page}ページ目：{running_time}秒')\n",
        "    # 取得した件数\n",
        "    print(f'総取得件数：{len(data_samples)}')\n",
        "    # 作業進捗\n",
        "    complete_ratio = round(page / max_page * 100, 3)\n",
        "    print(f'完了：{complete_ratio}%')\n",
        "    # 作業の残り時間目安を表示\n",
        "    running_mean = np.mean(times)\n",
        "    running_required_time = running_mean * (max_page - page)\n",
        "    hour = int(running_required_time / 3600)\n",
        "    minute = int((running_required_time % 3600) / 60)\n",
        "    second = int(running_required_time % 60)\n",
        "    print(f'残り時間：{hour}時間{minute}分{second}秒\\n')\n",
        "\n",
        "# 処理時間を測りたい\n",
        "finish = time.time()\n",
        "running_all = finish - start\n",
        "print('総経過時間：', running_all)"
      ]
    }
  ]
}